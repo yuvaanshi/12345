{
 "cells": [
  {
   "cell_type": "code",
   "execution_count": null,
   "metadata": {},
   "outputs": [],
   "source": [
    "# Functions:\n",
    "\n",
    "the function is a block of code which runs only when it is called\n",
    "you  can pass data know as parameters\n"
   ]
  },
  {
   "cell_type": "code",
   "execution_count": null,
   "metadata": {},
   "outputs": [],
   "source": [
    "syntax for defining a function:\n",
    "    \n",
    "    def(parameters)   # def is mandantary\n",
    "    \n",
    "    \n",
    "    \"\"\" Docstrings\"\"\"\n",
    "    \n",
    "    ----------\n",
    "    ---------------\n",
    "    \n",
    "    return value  (optional)"
   ]
  },
  {
   "cell_type": "code",
   "execution_count": null,
   "metadata": {},
   "outputs": [],
   "source": [
    "Doc strings \n",
    "\n",
    "comments --> \n",
    "\n",
    "print('string') # i am print a string\n",
    "\n",
    "\n",
    "docstrings -->\"\"\"\"\"\"\n",
    "\n",
    "\n",
    "playing --> loading ...........\n",
    "processing ..........\n",
    "\n",
    "\n"
   ]
  },
  {
   "cell_type": "code",
   "execution_count": 5,
   "metadata": {},
   "outputs": [
    {
     "name": "stdout",
     "output_type": "stream",
     "text": [
      "I am printing a New  Function\n"
     ]
    }
   ],
   "source": [
    "# creating the function\n",
    "\n",
    "\n",
    "def new_function():  # defining a function\n",
    "    print(\"I am printing a New  Function\")  # block of code\n",
    "new_function()  # call the function"
   ]
  },
  {
   "cell_type": "code",
   "execution_count": 2,
   "metadata": {},
   "outputs": [
    {
     "name": "stdout",
     "output_type": "stream",
     "text": [
      "I am printing a New  Function\n"
     ]
    }
   ],
   "source": [
    "print(\"I am printing a New  Function\")"
   ]
  },
  {
   "cell_type": "code",
   "execution_count": 4,
   "metadata": {},
   "outputs": [
    {
     "name": "stdout",
     "output_type": "stream",
     "text": [
      "I am printing a New  Function\n"
     ]
    }
   ],
   "source": [
    "new_function()"
   ]
  },
  {
   "cell_type": "code",
   "execution_count": 7,
   "metadata": {},
   "outputs": [
    {
     "name": "stdout",
     "output_type": "stream",
     "text": [
      "Hello, Welcome to python classes\n"
     ]
    }
   ],
   "source": [
    "def greet():\n",
    "    print('Hello, Welcome to python classes')\n",
    "greet()\n",
    "    "
   ]
  },
  {
   "cell_type": "code",
   "execution_count": null,
   "metadata": {},
   "outputs": [],
   "source": [
    "built -in:\n",
    "    \n",
    "    \n",
    "    type()\n",
    "    id()\n",
    "    print()\n",
    "    input()\n",
    "    bool()\n",
    "    eval"
   ]
  },
  {
   "cell_type": "code",
   "execution_count": null,
   "metadata": {},
   "outputs": [],
   "source": [
    " # user defined functions"
   ]
  },
  {
   "cell_type": "code",
   "execution_count": 8,
   "metadata": {},
   "outputs": [
    {
     "name": "stdout",
     "output_type": "stream",
     "text": [
      "Hello priya Good morning, How are you this day\n",
      "Hello Anil Good morning, How are you this day\n",
      "Hello venkat Good morning, How are you this day\n",
      "Hello komal Good morning, How are you this day\n",
      "Hello vishwanath Good morning, How are you this day\n"
     ]
    }
   ],
   "source": [
    "# a function to take name of the stuedents as the iput and print the wish message\n",
    "\n",
    "\n",
    "def wish(name):\n",
    "    print(\"Hello\",name,\"Good morning, How are you this day\")\n",
    "wish(\"priya\")\n",
    "wish(\"Anil\")\n",
    "wish(\"venkat\")\n",
    "wish(\"komal\")\n",
    "wish(\"vishwanath\")"
   ]
  },
  {
   "cell_type": "code",
   "execution_count": 11,
   "metadata": {},
   "outputs": [
    {
     "name": "stdout",
     "output_type": "stream",
     "text": [
      "the square of 25 is 625\n",
      "the square of 105 is 11025\n",
      "the square of 200 is 40000\n"
     ]
    }
   ],
   "source": [
    "# write a function  to take a number as input and print the square of that value:\n",
    "\n",
    "def square(number):\n",
    "    print(\"the square of\",number, \"is\",number*number)\n",
    "square(25)\n",
    "square(105)\n",
    "square(200)\n",
    "    "
   ]
  },
  {
   "cell_type": "code",
   "execution_count": 14,
   "metadata": {},
   "outputs": [
    {
     "name": "stdout",
     "output_type": "stream",
     "text": [
      "the sum of given two numbers is 70\n",
      "the sum is  700\n"
     ]
    }
   ],
   "source": [
    "# return  statements:\n",
    "\n",
    "def add(x,y):\n",
    "    return x+y\n",
    "result = add(30,40)\n",
    "print(\"the sum of given two numbers is\", result)\n",
    "print(\"the sum is \",add(300,400))\n"
   ]
  },
  {
   "cell_type": "code",
   "execution_count": 16,
   "metadata": {},
   "outputs": [
    {
     "name": "stdout",
     "output_type": "stream",
     "text": [
      "25\n",
      "50\n",
      "75\n"
     ]
    }
   ],
   "source": [
    "def funct(x):\n",
    "    return 5 * x\n",
    "\n",
    "print(funct(5))\n",
    "print(funct(10))\n",
    "print(funct(15))"
   ]
  },
  {
   "cell_type": "code",
   "execution_count": 24,
   "metadata": {},
   "outputs": [
    {
     "name": "stdout",
     "output_type": "stream",
     "text": [
      "Hello\n",
      "Hello\n",
      "None\n"
     ]
    }
   ],
   "source": [
    "def f1():\n",
    "    print(\"Hello\")\n",
    "f1()\n",
    "print(f1())"
   ]
  },
  {
   "cell_type": "code",
   "execution_count": null,
   "metadata": {},
   "outputs": [],
   "source": [
    "# if you are not going to define any thing it will give it as none"
   ]
  },
  {
   "cell_type": "code",
   "execution_count": 25,
   "metadata": {},
   "outputs": [],
   "source": [
    "# to check the given number is odd or even\n",
    "\n",
    "\n",
    "def even_odd(num):\n",
    "    if num%2==0:\n",
    "        print(num, \"is Even Number\")\n",
    "    else:\n",
    "        print(num, \" is odd Number\")"
   ]
  },
  {
   "cell_type": "code",
   "execution_count": 28,
   "metadata": {},
   "outputs": [
    {
     "name": "stdout",
     "output_type": "stream",
     "text": [
      "100 is Even Number\n"
     ]
    }
   ],
   "source": [
    "even_odd(100)"
   ]
  },
  {
   "cell_type": "code",
   "execution_count": null,
   "metadata": {},
   "outputs": [],
   "source": [
    "# factioal :\n",
    "\n",
    "4! = 4*3*2*1\n",
    "3! = 3*2*1\n",
    "2! = 2*1\n",
    "1! =1"
   ]
  },
  {
   "cell_type": "code",
   "execution_count": 31,
   "metadata": {},
   "outputs": [
    {
     "name": "stdout",
     "output_type": "stream",
     "text": [
      "the factorial of 1 is 1\n",
      "the factorial of 2 is 2\n",
      "the factorial of 3 is 6\n",
      "the factorial of 4 is 24\n",
      "the factorial of 5 is 120\n",
      "the factorial of 6 is 720\n",
      "the factorial of 7 is 5040\n",
      "the factorial of 8 is 40320\n",
      "the factorial of 9 is 362880\n"
     ]
    }
   ],
   "source": [
    "def fact(num):\n",
    "    result=1\n",
    "    while num>=1:\n",
    "        result=result*num\n",
    "        num=num-1\n",
    "    return result\n",
    "for i in range(1,10):\n",
    "    print(\"the factorial of\",i,\"is\",fact(i))"
   ]
  },
  {
   "cell_type": "code",
   "execution_count": 33,
   "metadata": {},
   "outputs": [
    {
     "name": "stdout",
     "output_type": "stream",
     "text": [
      "the sum is 350\n",
      "the sub is 50\n"
     ]
    }
   ],
   "source": [
    "# return multiple values from a function:\n",
    "\n",
    "\n",
    "def sum_sub(a,b):\n",
    "    sum= a+b\n",
    "    sub = a-b\n",
    "    return sum,sub\n",
    "x,y= sum_sub(200,150)\n",
    "print(\"the sum is\",x)\n",
    "print(\"the sub is\",y)"
   ]
  },
  {
   "cell_type": "code",
   "execution_count": 34,
   "metadata": {},
   "outputs": [
    {
     "name": "stdout",
     "output_type": "stream",
     "text": [
      "the result are \n",
      "150\n",
      "50\n",
      "5000\n",
      "2.0\n"
     ]
    }
   ],
   "source": [
    "def cal(a,b):\n",
    "    sum=a+b\n",
    "    sub=a-b\n",
    "    mul=a*b\n",
    "    div=a/b\n",
    "    return sum,sub,mul,div\n",
    "t = cal(100,50)\n",
    "print(\"the result are \")\n",
    "for i in t:\n",
    "    print(i)"
   ]
  },
  {
   "cell_type": "code",
   "execution_count": null,
   "metadata": {},
   "outputs": [],
   "source": [
    "# The arguements:\n",
    "\n",
    "positional \n",
    "keyword arguements\n",
    "default arguements\n",
    "variable length arguements\n",
    "\n",
    "\n",
    "# types variables :\n",
    "local\n",
    "global\n",
    "\n",
    "\n",
    "\n"
   ]
  },
  {
   "cell_type": "code",
   "execution_count": null,
   "metadata": {},
   "outputs": [],
   "source": []
  },
  {
   "cell_type": "code",
   "execution_count": null,
   "metadata": {},
   "outputs": [],
   "source": [
    "500 INR --> phone pay/ google pay 9036912171\n",
    "\n",
    "\n"
   ]
  },
  {
   "cell_type": "code",
   "execution_count": null,
   "metadata": {},
   "outputs": [],
   "source": [
    "11:45 to 12:45\n",
    "    \n",
    "    5:30 t0 6:30\n",
    "            9:10pm\n",
    "                \n",
    "4pm to 5 pm   --> mojarity\n",
    "\n",
    "weekends -->   11:45 to 12:45"
   ]
  },
  {
   "cell_type": "code",
   "execution_count": null,
   "metadata": {},
   "outputs": [],
   "source": []
  },
  {
   "cell_type": "code",
   "execution_count": null,
   "metadata": {},
   "outputs": [],
   "source": []
  },
  {
   "cell_type": "code",
   "execution_count": 2,
   "metadata": {},
   "outputs": [
    {
     "ename": "SyntaxError",
     "evalue": "unexpected EOF while parsing (<ipython-input-2-b30914a4032c>, line 1)",
     "output_type": "error",
     "traceback": [
      "\u001b[1;36m  File \u001b[1;32m\"<ipython-input-2-b30914a4032c>\"\u001b[1;36m, line \u001b[1;32m1\u001b[0m\n\u001b[1;33m    def wish(name, msg=\"Welcome\"):\u001b[0m\n\u001b[1;37m                                  ^\u001b[0m\n\u001b[1;31mSyntaxError\u001b[0m\u001b[1;31m:\u001b[0m unexpected EOF while parsing\n"
     ]
    }
   ],
   "source": []
  },
  {
   "cell_type": "code",
   "execution_count": null,
   "metadata": {},
   "outputs": [],
   "source": []
  }
 ],
 "metadata": {
  "kernelspec": {
   "display_name": "Python 3",
   "language": "python",
   "name": "python3"
  },
  "language_info": {
   "codemirror_mode": {
    "name": "ipython",
    "version": 3
   },
   "file_extension": ".py",
   "mimetype": "text/x-python",
   "name": "python",
   "nbconvert_exporter": "python",
   "pygments_lexer": "ipython3",
   "version": "3.7.6"
  }
 },
 "nbformat": 4,
 "nbformat_minor": 4
}
